{
 "cells": [
  {
   "cell_type": "code",
   "execution_count": 1,
   "metadata": {},
   "outputs": [],
   "source": [
    "import pygalmesh\n",
    "import meshio\n",
    "import trimesh"
   ]
  },
  {
   "cell_type": "code",
   "execution_count": 2,
   "metadata": {},
   "outputs": [],
   "source": [
    "radius = 1.0\n",
    "displacement = 0.5\n",
    "s0 = pygalmesh.Ball([displacement, 0, 0], radius)\n",
    "s1 = pygalmesh.Ball([-displacement, 0, 0], radius)\n",
    "u = pygalmesh.Difference(s0, s1)"
   ]
  },
  {
   "cell_type": "code",
   "execution_count": 3,
   "metadata": {},
   "outputs": [
    {
     "name": "stderr",
     "output_type": "stream",
     "text": [
      "Inserting protection balls...\n",
      "  refine_balls = true\n",
      "  min_balls_radius = 0\n",
      "  min_balls_weight = 0\n",
      "insert_corners() done. Nb of points in triangulation: 0\n",
      "insert_balls_on_edges() done. Nb of points in triangulation: 0\n",
      "refine_balls() done. Nb of points in triangulation: 0\n",
      "\n",
      "construct initial points (nb_points: 12)\n",
      "12/12 initial point(s) found...\n",
      "Start surface scan...Scanning triangulation for bad facets (sequential) - number of finite facets = 48...\n",
      "Number of bad facets: 0\n",
      "scanning edges (lazy)\n",
      "scanning vertices (lazy)\n",
      "end scan. [Bad facets:0]\n",
      "\n",
      "Refining Surface...\n",
      "Legend of the following line: (#vertices,#steps,#facets to refine,#tets to refine)\n",
      "(12,0,0,0)\n",
      "Total refining surface time: 3.8147e-05s\n",
      "\n",
      "Start volume scan...Scanning triangulation for bad cells (sequential)... 19 cells scanned, done.\n",
      "Number of bad cells: 17\n",
      "end scan. [Bad tets:17]\n",
      "\n",
      "Refining...\n",
      "Legend of the following line: (#vertices,#steps,#facets to refine,#tets to refine)\n",
      "(822,1231,0,0) (23876.9 vertices/s)))\n",
      "Total refining volume time: 0.0515749s\n",
      "Total refining time: 0.051774s\n",
      "\n",
      "Running sliver perturbation...\n",
      "Legend of the following line: (#vertices in pqueue, #iterations, #fails)\n",
      "bound 6      1,0) (297.9 iteration/s)"
     ]
    },
    {
     "ename": "KeyboardInterrupt",
     "evalue": "",
     "output_type": "error",
     "traceback": [
      "\u001b[0;31m---------------------------------------------------------------------------\u001b[0m",
      "\u001b[0;31mKeyboardInterrupt\u001b[0m                         Traceback (most recent call last)",
      "Cell \u001b[0;32mIn[3], line 2\u001b[0m\n\u001b[1;32m      1\u001b[0m \u001b[38;5;66;03m# takes around \u001b[39;00m\n\u001b[0;32m----> 2\u001b[0m mesh \u001b[38;5;241m=\u001b[39m \u001b[43mpygalmesh\u001b[49m\u001b[38;5;241;43m.\u001b[39;49m\u001b[43mgenerate_mesh\u001b[49m\u001b[43m(\u001b[49m\n\u001b[1;32m      3\u001b[0m \u001b[43m            \u001b[49m\u001b[43mu\u001b[49m\u001b[43m,\u001b[49m\n\u001b[1;32m      4\u001b[0m \u001b[43m            \u001b[49m\u001b[43mmax_cell_circumradius\u001b[49m\u001b[38;5;241;43m=\u001b[39;49m\u001b[38;5;241;43m0.15\u001b[39;49m\u001b[43m,\u001b[49m\n\u001b[1;32m      5\u001b[0m \u001b[43m        \u001b[49m\u001b[43m)\u001b[49m\n",
      "File \u001b[0;32m~/.venv/lib/python3.11/site-packages/pygalmesh/main.py:107\u001b[0m, in \u001b[0;36mgenerate_mesh\u001b[0;34m(domain, extra_feature_edges, bounding_sphere_radius, lloyd, odt, perturb, exude, max_edge_size_at_feature_edges, min_facet_angle, max_radius_surface_delaunay_ball, max_facet_distance, max_circumradius_edge_ratio, max_cell_circumradius, exude_time_limit, exude_sliver_bound, verbose, seed)\u001b[0m\n\u001b[1;32m     95\u001b[0m max_facet_distance_value, max_facet_distance_field \u001b[38;5;241m=\u001b[39m _select(max_facet_distance)\n\u001b[1;32m     97\u001b[0m \u001b[38;5;66;03m# if feature_edges:\u001b[39;00m\n\u001b[1;32m     98\u001b[0m \u001b[38;5;66;03m#     if max_edge_size_at_feature_edges == 0.0:\u001b[39;00m\n\u001b[1;32m     99\u001b[0m \u001b[38;5;66;03m#         raise ValueError(\u001b[39;00m\n\u001b[0;32m   (...)\u001b[0m\n\u001b[1;32m    104\u001b[0m \u001b[38;5;66;03m#         \"No feature edges. The max_edge_size_at_feature_edges argument has no effect.\"\u001b[39;00m\n\u001b[1;32m    105\u001b[0m \u001b[38;5;66;03m#     )\u001b[39;00m\n\u001b[0;32m--> 107\u001b[0m \u001b[43m_generate_mesh\u001b[49m\u001b[43m(\u001b[49m\n\u001b[1;32m    108\u001b[0m \u001b[43m    \u001b[49m\u001b[43mdomain\u001b[49m\u001b[43m,\u001b[49m\n\u001b[1;32m    109\u001b[0m \u001b[43m    \u001b[49m\u001b[43moutfile\u001b[49m\u001b[43m,\u001b[49m\n\u001b[1;32m    110\u001b[0m \u001b[43m    \u001b[49m\u001b[43mextra_feature_edges\u001b[49m\u001b[38;5;241;43m=\u001b[39;49m\u001b[43mextra_feature_edges\u001b[49m\u001b[43m,\u001b[49m\n\u001b[1;32m    111\u001b[0m \u001b[43m    \u001b[49m\u001b[43mbounding_sphere_radius\u001b[49m\u001b[38;5;241;43m=\u001b[39;49m\u001b[43mbounding_sphere_radius\u001b[49m\u001b[43m,\u001b[49m\n\u001b[1;32m    112\u001b[0m \u001b[43m    \u001b[49m\u001b[43mlloyd\u001b[49m\u001b[38;5;241;43m=\u001b[39;49m\u001b[43mlloyd\u001b[49m\u001b[43m,\u001b[49m\n\u001b[1;32m    113\u001b[0m \u001b[43m    \u001b[49m\u001b[43modt\u001b[49m\u001b[38;5;241;43m=\u001b[39;49m\u001b[43modt\u001b[49m\u001b[43m,\u001b[49m\n\u001b[1;32m    114\u001b[0m \u001b[43m    \u001b[49m\u001b[43mperturb\u001b[49m\u001b[38;5;241;43m=\u001b[39;49m\u001b[43mperturb\u001b[49m\u001b[43m,\u001b[49m\n\u001b[1;32m    115\u001b[0m \u001b[43m    \u001b[49m\u001b[43mexude\u001b[49m\u001b[38;5;241;43m=\u001b[39;49m\u001b[43mexude\u001b[49m\u001b[43m,\u001b[49m\n\u001b[1;32m    116\u001b[0m \u001b[43m    \u001b[49m\u001b[43mmax_edge_size_at_feature_edges_value\u001b[49m\u001b[38;5;241;43m=\u001b[39;49m\u001b[43mmax_edge_size_at_feature_edges_value\u001b[49m\u001b[43m,\u001b[49m\n\u001b[1;32m    117\u001b[0m \u001b[43m    \u001b[49m\u001b[43mmax_edge_size_at_feature_edges_field\u001b[49m\u001b[38;5;241;43m=\u001b[39;49m\u001b[43mmax_edge_size_at_feature_edges_field\u001b[49m\u001b[43m,\u001b[49m\n\u001b[1;32m    118\u001b[0m \u001b[43m    \u001b[49m\u001b[43mmin_facet_angle\u001b[49m\u001b[38;5;241;43m=\u001b[39;49m\u001b[43mmin_facet_angle\u001b[49m\u001b[43m,\u001b[49m\n\u001b[1;32m    119\u001b[0m \u001b[43m    \u001b[49m\u001b[43mmax_radius_surface_delaunay_ball_value\u001b[49m\u001b[38;5;241;43m=\u001b[39;49m\u001b[43mmax_radius_surface_delaunay_ball_value\u001b[49m\u001b[43m,\u001b[49m\n\u001b[1;32m    120\u001b[0m \u001b[43m    \u001b[49m\u001b[43mmax_radius_surface_delaunay_ball_field\u001b[49m\u001b[38;5;241;43m=\u001b[39;49m\u001b[43mmax_radius_surface_delaunay_ball_field\u001b[49m\u001b[43m,\u001b[49m\n\u001b[1;32m    121\u001b[0m \u001b[43m    \u001b[49m\u001b[43mmax_facet_distance_value\u001b[49m\u001b[38;5;241;43m=\u001b[39;49m\u001b[43mmax_facet_distance_value\u001b[49m\u001b[43m,\u001b[49m\n\u001b[1;32m    122\u001b[0m \u001b[43m    \u001b[49m\u001b[43mmax_facet_distance_field\u001b[49m\u001b[38;5;241;43m=\u001b[39;49m\u001b[43mmax_facet_distance_field\u001b[49m\u001b[43m,\u001b[49m\n\u001b[1;32m    123\u001b[0m \u001b[43m    \u001b[49m\u001b[43mmax_circumradius_edge_ratio\u001b[49m\u001b[38;5;241;43m=\u001b[39;49m\u001b[43mmax_circumradius_edge_ratio\u001b[49m\u001b[43m,\u001b[49m\n\u001b[1;32m    124\u001b[0m \u001b[43m    \u001b[49m\u001b[43mmax_cell_circumradius_value\u001b[49m\u001b[38;5;241;43m=\u001b[39;49m\u001b[43mmax_cell_circumradius_value\u001b[49m\u001b[43m,\u001b[49m\n\u001b[1;32m    125\u001b[0m \u001b[43m    \u001b[49m\u001b[43mmax_cell_circumradius_field\u001b[49m\u001b[38;5;241;43m=\u001b[39;49m\u001b[43mmax_cell_circumradius_field\u001b[49m\u001b[43m,\u001b[49m\n\u001b[1;32m    126\u001b[0m \u001b[43m    \u001b[49m\u001b[43mexude_time_limit\u001b[49m\u001b[38;5;241;43m=\u001b[39;49m\u001b[43mexude_time_limit\u001b[49m\u001b[43m,\u001b[49m\n\u001b[1;32m    127\u001b[0m \u001b[43m    \u001b[49m\u001b[43mexude_sliver_bound\u001b[49m\u001b[38;5;241;43m=\u001b[39;49m\u001b[43mexude_sliver_bound\u001b[49m\u001b[43m,\u001b[49m\n\u001b[1;32m    128\u001b[0m \u001b[43m    \u001b[49m\u001b[43mverbose\u001b[49m\u001b[38;5;241;43m=\u001b[39;49m\u001b[43mverbose\u001b[49m\u001b[43m,\u001b[49m\n\u001b[1;32m    129\u001b[0m \u001b[43m    \u001b[49m\u001b[43mseed\u001b[49m\u001b[38;5;241;43m=\u001b[39;49m\u001b[43mseed\u001b[49m\u001b[43m,\u001b[49m\n\u001b[1;32m    130\u001b[0m \u001b[43m\u001b[49m\u001b[43m)\u001b[49m\n\u001b[1;32m    132\u001b[0m mesh \u001b[38;5;241m=\u001b[39m meshio\u001b[38;5;241m.\u001b[39mread(outfile)\n\u001b[1;32m    133\u001b[0m os\u001b[38;5;241m.\u001b[39mremove(outfile)\n",
      "\u001b[0;31mKeyboardInterrupt\u001b[0m: "
     ]
    }
   ],
   "source": [
    "# doesn't terminate inside notebook, run in REPL\n",
    "mesh = pygalmesh.generate_mesh(\n",
    "            u,\n",
    "            max_cell_circumradius=0.05,\n",
    "        )\n",
    "\n",
    "mesh_trimesh = trimesh.Trimesh(vertices=mesh.points, faces=mesh.cells[0].data)\n",
    "\n",
    "trimesh.exchange.urdf.export_urdf(mesh_trimesh, \".\", color=[0.5, 0.5, 0.5])\n",
    "# trimesh.exchange.obj.export_obj(mesh_trimesh, \"mesh.obj\")"
   ]
  },
  {
   "cell_type": "code",
   "execution_count": null,
   "metadata": {},
   "outputs": [],
   "source": [
    "# save as .vtk\n",
    "\n",
    "meshio.write(\"out.obj\", mesh)"
   ]
  },
  {
   "cell_type": "code",
   "execution_count": null,
   "metadata": {},
   "outputs": [],
   "source": []
  }
 ],
 "metadata": {
  "kernelspec": {
   "display_name": ".venv",
   "language": "python",
   "name": "python3"
  },
  "language_info": {
   "codemirror_mode": {
    "name": "ipython",
    "version": 3
   },
   "file_extension": ".py",
   "mimetype": "text/x-python",
   "name": "python",
   "nbconvert_exporter": "python",
   "pygments_lexer": "ipython3",
   "version": "3.11.4"
  }
 },
 "nbformat": 4,
 "nbformat_minor": 2
}
